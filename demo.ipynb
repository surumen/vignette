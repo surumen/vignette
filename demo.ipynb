{
 "cells": [
  {
   "cell_type": "code",
   "execution_count": 117,
   "metadata": {},
   "outputs": [],
   "source": [
    "import numpy as np # linear algebra\n",
    "import pandas as pd # data processing, CSV file I/O (e.g. pd.read_csv)\n",
    "\n",
    "# Input data files are available in the \"input/\" directory.\n",
    "# For example, running this (by clicking run or pressing Shift+Enter) will list the files in the input directory\n",
    "\n",
    "import os\n",
    "\n",
    "# Any results writen to the current directory are saved as output.\n"
   ]
  },
  {
   "cell_type": "markdown",
   "metadata": {},
   "source": [
    "# Campus Safety and Crime Statistics: UC Berkeley 2013-2016\n",
    "\n",
    "- Introduction\n",
    "    - About Nixle\n",
    "    - Sharing data with the department of education\n",
    "    - Suspect descriptions\n",
    "    - Reported crimes\n",
    "    \n",
    "    \n",
    "- Predict the likelihood a person to be viewed as a suspect based on their race\n",
    "\n",
    "    - Preparing Data\n",
    "        - Analyze Data\n",
    "        - Descriptive Statitics\n",
    "        - Data Visualization\n",
    "    - Outliers investigation\n",
    "        - Outliers investigation Single Feature\n",
    "        - Outliers investigation Pairs\n",
    "        \n",
    "    - Evaluate Algorithms: Baseline\n",
    "    - Feature Engineering \n",
    "        - Data Preprocessig\n",
    "            - Standard Scaler\n",
    "            - MinMax Scaler\n",
    "        - Remove OutlierS\n",
    "    - Feature Selection\n",
    "        - Corrolation\n",
    "        - Feature Importance\n",
    "    - Ensemble Methods    \n",
    "        - Algortithm Tuning\n",
    "        - Voting Ensemble\n",
    "        - Error Corrolation\n",
    "        - Stacking\n",
    " \n",
    " -  Conclusion (Accuracy approx 86%)"
   ]
  },
  {
   "cell_type": "code",
   "execution_count": 118,
   "metadata": {},
   "outputs": [
    {
     "data": {
      "text/html": [
       "<script>requirejs.config({paths: { 'plotly': ['https://cdn.plot.ly/plotly-latest.min']},});if(!window.Plotly) {{require(['plotly'],function(plotly) {window.Plotly=plotly;});}}</script>"
      ],
      "text/vnd.plotly.v1+html": [
       "<script>requirejs.config({paths: { 'plotly': ['https://cdn.plot.ly/plotly-latest.min']},});if(!window.Plotly) {{require(['plotly'],function(plotly) {window.Plotly=plotly;});}}</script>"
      ]
     },
     "metadata": {},
     "output_type": "display_data"
    }
   ],
   "source": [
    "import sys\n",
    "\n",
    "\n",
    "import matplotlib.pyplot as plt\n",
    "import seaborn as sns\n",
    "from IPython.display import display\n",
    "%matplotlib inline\n",
    "\n",
    "import plotly.offline as py\n",
    "import plotly.graph_objs as go\n",
    "import plotly.tools as tls\n",
    "py.init_notebook_mode(connected=True)\n",
    "\n",
    "import warnings\n",
    "warnings.filterwarnings('ignore')"
   ]
  },
  {
   "cell_type": "code",
   "execution_count": 119,
   "metadata": {},
   "outputs": [],
   "source": [
    "# Always good to set a seed for reproducibility\n",
    "SEED = 7\n",
    "np.random.seed(SEED)"
   ]
  },
  {
   "cell_type": "markdown",
   "metadata": {},
   "source": [
    "# 2. Preparing the Data"
   ]
  },
  {
   "cell_type": "code",
   "execution_count": 120,
   "metadata": {},
   "outputs": [
    {
     "data": {
      "text/plain": [
       "Index(['Survey year', 'Murder/Non-negligent manslaughter',\n",
       "       'Negligent manslaughter', 'Sex offenses - Forcible', 'Rape', 'Fondling',\n",
       "       'Sex offenses - Non-forcible', 'Incest', 'Statutory rape', 'Robbery',\n",
       "       'Aggravated assault', 'Burglary', 'Motor vehicle theft', 'Arson'],\n",
       "      dtype='object')"
      ]
     },
     "execution_count": 120,
     "metadata": {},
     "output_type": "execute_result"
    }
   ],
   "source": [
    "# ---- load data ------- #\n",
    "\n",
    "# criminal offenses\n",
    "df_1 = pd.read_csv('input/Criminal_Offenses_On_campus.csv')\n",
    "df_2 = pd.read_csv('input/Criminal_Offenses_On_campus_Student_Housing_Facilities.csv')\n",
    "df_3 = pd.read_csv('input/Criminal_Offenses_Noncampus.csv')\n",
    "\n",
    "# drop columns we will not need for analysis\n",
    "columns_dropped = ['Unitid', 'Institution name', 'Campus ID', ' Campus Name', 'Institution Size']\n",
    "\n",
    "# remove these columns from our data frames\n",
    "df_1.drop(columns_dropped, inplace=True, axis=1)\n",
    "df_2.drop(columns_dropped, inplace=True, axis=1)\n",
    "df_3.drop(columns_dropped, inplace=True, axis=1)\n",
    "\n",
    "# merge data frames\n",
    "df_4 = df_1.add(df_2, fill_value=0)\n",
    "\n",
    "# final data frame \"df\"\n",
    "df = df_4.add(df_3, fill_value=0)\n",
    "df.iloc[:, 0] = df_1.iloc[:, 0]\n",
    "\n",
    "# Getting dataframe columns names\n",
    "df_name=df.columns\n",
    "\n",
    "df_name"
   ]
  },
  {
   "cell_type": "markdown",
   "metadata": {},
   "source": [
    "## 2.1. Analyze Data:\n",
    "### 2.1 Descriptive Statitics"
   ]
  },
  {
   "cell_type": "code",
   "execution_count": null,
   "metadata": {},
   "outputs": [],
   "source": [
    "df.info()"
   ]
  },
  {
   "cell_type": "code",
   "execution_count": 121,
   "metadata": {},
   "outputs": [
    {
     "data": {
      "text/html": [
       "<div>\n",
       "<style scoped>\n",
       "    .dataframe tbody tr th:only-of-type {\n",
       "        vertical-align: middle;\n",
       "    }\n",
       "\n",
       "    .dataframe tbody tr th {\n",
       "        vertical-align: top;\n",
       "    }\n",
       "\n",
       "    .dataframe thead th {\n",
       "        text-align: right;\n",
       "    }\n",
       "</style>\n",
       "<table border=\"1\" class=\"dataframe\">\n",
       "  <thead>\n",
       "    <tr style=\"text-align: right;\">\n",
       "      <th></th>\n",
       "      <th>Survey year</th>\n",
       "      <th>Murder/Non-negligent manslaughter</th>\n",
       "      <th>Negligent manslaughter</th>\n",
       "      <th>Sex offenses - Forcible</th>\n",
       "      <th>Rape</th>\n",
       "      <th>Fondling</th>\n",
       "      <th>Sex offenses - Non-forcible</th>\n",
       "      <th>Incest</th>\n",
       "      <th>Statutory rape</th>\n",
       "      <th>Robbery</th>\n",
       "      <th>Aggravated assault</th>\n",
       "      <th>Burglary</th>\n",
       "      <th>Motor vehicle theft</th>\n",
       "      <th>Arson</th>\n",
       "    </tr>\n",
       "  </thead>\n",
       "  <tbody>\n",
       "    <tr>\n",
       "      <th>0</th>\n",
       "      <td>2016</td>\n",
       "      <td>0</td>\n",
       "      <td>0</td>\n",
       "      <td>NaN</td>\n",
       "      <td>62.0</td>\n",
       "      <td>23.0</td>\n",
       "      <td>NaN</td>\n",
       "      <td>0.0</td>\n",
       "      <td>2.0</td>\n",
       "      <td>13</td>\n",
       "      <td>12</td>\n",
       "      <td>57</td>\n",
       "      <td>53</td>\n",
       "      <td>6</td>\n",
       "    </tr>\n",
       "    <tr>\n",
       "      <th>1</th>\n",
       "      <td>2015</td>\n",
       "      <td>0</td>\n",
       "      <td>0</td>\n",
       "      <td>NaN</td>\n",
       "      <td>39.0</td>\n",
       "      <td>46.0</td>\n",
       "      <td>NaN</td>\n",
       "      <td>0.0</td>\n",
       "      <td>0.0</td>\n",
       "      <td>13</td>\n",
       "      <td>12</td>\n",
       "      <td>68</td>\n",
       "      <td>16</td>\n",
       "      <td>5</td>\n",
       "    </tr>\n",
       "    <tr>\n",
       "      <th>2</th>\n",
       "      <td>2014</td>\n",
       "      <td>0</td>\n",
       "      <td>0</td>\n",
       "      <td>NaN</td>\n",
       "      <td>42.0</td>\n",
       "      <td>14.0</td>\n",
       "      <td>NaN</td>\n",
       "      <td>0.0</td>\n",
       "      <td>1.0</td>\n",
       "      <td>27</td>\n",
       "      <td>8</td>\n",
       "      <td>87</td>\n",
       "      <td>40</td>\n",
       "      <td>9</td>\n",
       "    </tr>\n",
       "    <tr>\n",
       "      <th>3</th>\n",
       "      <td>2013</td>\n",
       "      <td>1</td>\n",
       "      <td>0</td>\n",
       "      <td>39.0</td>\n",
       "      <td>NaN</td>\n",
       "      <td>NaN</td>\n",
       "      <td>0.0</td>\n",
       "      <td>NaN</td>\n",
       "      <td>NaN</td>\n",
       "      <td>19</td>\n",
       "      <td>17</td>\n",
       "      <td>97</td>\n",
       "      <td>15</td>\n",
       "      <td>6</td>\n",
       "    </tr>\n",
       "  </tbody>\n",
       "</table>\n",
       "</div>"
      ],
      "text/plain": [
       "   Survey year  Murder/Non-negligent manslaughter  Negligent manslaughter  \\\n",
       "0         2016                                  0                       0   \n",
       "1         2015                                  0                       0   \n",
       "2         2014                                  0                       0   \n",
       "3         2013                                  1                       0   \n",
       "\n",
       "   Sex offenses - Forcible  Rape  Fondling  Sex offenses - Non-forcible  \\\n",
       "0                      NaN  62.0      23.0                          NaN   \n",
       "1                      NaN  39.0      46.0                          NaN   \n",
       "2                      NaN  42.0      14.0                          NaN   \n",
       "3                     39.0   NaN       NaN                          0.0   \n",
       "\n",
       "   Incest  Statutory rape  Robbery  Aggravated assault  Burglary  \\\n",
       "0     0.0             2.0       13                  12        57   \n",
       "1     0.0             0.0       13                  12        68   \n",
       "2     0.0             1.0       27                   8        87   \n",
       "3     NaN             NaN       19                  17        97   \n",
       "\n",
       "   Motor vehicle theft  Arson  \n",
       "0                   53      6  \n",
       "1                   16      5  \n",
       "2                   40      9  \n",
       "3                   15      6  "
      ]
     },
     "execution_count": 121,
     "metadata": {},
     "output_type": "execute_result"
    }
   ],
   "source": [
    "df.head()"
   ]
  },
  {
   "cell_type": "markdown",
   "metadata": {},
   "source": [
    "### 2.2. Data Visualization\n",
    "Let's take look at our data in the most raw shape.\n",
    "Used a scatter plot because so that we can get the idea of our data without any manipulation"
   ]
  },
  {
   "cell_type": "code",
   "execution_count": 133,
   "metadata": {},
   "outputs": [
    {
     "data": {
      "text/plain": [
       "<matplotlib.axes._subplots.AxesSubplot at 0x112d96390>"
      ]
     },
     "execution_count": 133,
     "metadata": {},
     "output_type": "execute_result"
    },
    {
     "data": {
      "image/png": "[encoded data removed]",
      "text/plain": [
       "<matplotlib.figure.Figure at 0x113f51ef0>"
      ]
     },
     "metadata": {},
     "output_type": "display_data"
    }
   ],
   "source": [
    "df.plot(x='Survey year', figsize = (16, 8), kind='bar')"
   ]
  },
  {
   "cell_type": "code",
   "execution_count": null,
   "metadata": {},
   "outputs": [],
   "source": []
  },
  {
   "cell_type": "markdown",
   "metadata": {},
   "source": [
    "# 3.  Evaluate Algorithms\n",
    "\n",
    "\n",
    "### 3.1 Predicting likelihood of a person to be labeled as a suspect based on race\n"
   ]
  },
  {
   "cell_type": "markdown",
   "metadata": {},
   "source": [
    "- We usually devide the data to train and test set. We will not touch test set until the end of the computation and the final perpormance evaluation. Then, we can devide the train set to train and validation sets. We use the validation data set to tune the model. \n",
    "\n",
    "- Traditional train test method suffer from high variance test problem. It means tha by changing the test set the result of the prediction changes. To over come this problem we use k-fold validation method in our train and validation set"
   ]
  },
  {
   "cell_type": "markdown",
   "metadata": {},
   "source": [
    "<a href=\"https://ibb.co/bWRCsS\"><img src=\"https://preview.ibb.co/f7UAe7/validation.png\" alt=\"validation\" border=\"0\" /></a>"
   ]
  },
  {
   "cell_type": "code",
   "execution_count": null,
   "metadata": {},
   "outputs": [],
   "source": []
  }
 ],
 "metadata": {
  "kernelspec": {
   "display_name": "Python 3",
   "language": "python",
   "name": "python3"
  },
  "language_info": {
   "codemirror_mode": {
    "name": "ipython",
    "version": 3
   },
   "file_extension": ".py",
   "mimetype": "text/x-python",
   "name": "python",
   "nbconvert_exporter": "python",
   "pygments_lexer": "ipython3",
   "version": "3.6.5"
  }
 },
 "nbformat": 4,
 "nbformat_minor": 2
}
