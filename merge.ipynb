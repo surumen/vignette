{
 "cells": [
  {
   "cell_type": "code",
   "execution_count": 10,
   "metadata": {},
   "outputs": [],
   "source": [
    "import pandas as pd\n",
    "import os\n",
    "import csv\n",
    "from collections import Counter"
   ]
  },
  {
   "cell_type": "code",
   "execution_count": 11,
   "metadata": {},
   "outputs": [
    {
     "name": "stdout",
     "output_type": "stream",
     "text": [
      "{'Survey year': ['2016', '2015', '2014', '2013'], 'Murder/Non-negligent manslaughter': ['0', '0', '0', '1'], 'Negligent manslaughter': ['0', '0', '0', '0'], 'Sex offenses - Forcible': ['', '', '', '13'], 'Rape': ['33', '16', '15', ''], 'Fondling': ['16', '31', '9', ''], 'Sex offenses - Non-forcible': ['', '', '', '0'], 'Incest': ['0', '0', '0', ''], 'Statutory rape': ['1', '0', '1', ''], 'Robbery': ['10', '11', '23', '16'], 'Aggravated assault': ['8', '8', '5', '14'], 'Burglary': ['32', '43', '61', '56'], 'Motor vehicle theft': ['36', '10', '20', '11'], 'Arson': ['3', '4', '6', '3']}\n"
     ]
    },
    {
     "name": "stderr",
     "output_type": "stream",
     "text": [
      "/usr/local/lib/python3.6/site-packages/ipykernel_launcher.py:10: DeprecationWarning: 'U' mode is deprecated\n",
      "  # Remove the CWD from sys.path while we load stuff.\n"
     ]
    },
    {
     "ename": "TypeError",
     "evalue": "unsupported operand type(s) for +: 'int' and 'list'",
     "output_type": "error",
     "traceback": [
      "\u001b[0;31m---------------------------------------------------------------------------\u001b[0m",
      "\u001b[0;31mTypeError\u001b[0m                                 Traceback (most recent call last)",
      "\u001b[0;32m<ipython-input-11-d70be0dfd624>\u001b[0m in \u001b[0;36m<module>\u001b[0;34m()\u001b[0m\n\u001b[1;32m     34\u001b[0m \u001b[0mdata\u001b[0m \u001b[0;34m=\u001b[0m \u001b[0;34m{\u001b[0m\u001b[0;34m}\u001b[0m\u001b[0;34m\u001b[0m\u001b[0m\n\u001b[1;32m     35\u001b[0m \u001b[0;32mfor\u001b[0m \u001b[0mfile_name\u001b[0m \u001b[0;32min\u001b[0m \u001b[0mfile_names\u001b[0m\u001b[0;34m:\u001b[0m\u001b[0;34m\u001b[0m\u001b[0m\n\u001b[0;32m---> 36\u001b[0;31m     \u001b[0mmerge\u001b[0m\u001b[0;34m(\u001b[0m\u001b[0mdata\u001b[0m\u001b[0;34m,\u001b[0m \u001b[0mfile_name\u001b[0m\u001b[0;34m)\u001b[0m\u001b[0;34m\u001b[0m\u001b[0m\n\u001b[0m\u001b[1;32m     37\u001b[0m \u001b[0;34m\u001b[0m\u001b[0m\n\u001b[1;32m     38\u001b[0m \u001b[0;32mwith\u001b[0m \u001b[0mopen\u001b[0m\u001b[0;34m(\u001b[0m\u001b[0;34m'output.csv'\u001b[0m\u001b[0;34m,\u001b[0m \u001b[0;34m'w'\u001b[0m\u001b[0;34m)\u001b[0m \u001b[0;32mas\u001b[0m \u001b[0mfobj\u001b[0m\u001b[0;34m:\u001b[0m\u001b[0;34m\u001b[0m\u001b[0m\n",
      "\u001b[0;32m<ipython-input-11-d70be0dfd624>\u001b[0m in \u001b[0;36mmerge\u001b[0;34m(data, file_name)\u001b[0m\n\u001b[1;32m     29\u001b[0m     \u001b[0mnames\u001b[0m \u001b[0;34m=\u001b[0m \u001b[0minp\u001b[0m\u001b[0;34m.\u001b[0m\u001b[0mkeys\u001b[0m\u001b[0;34m(\u001b[0m\u001b[0;34m)\u001b[0m \u001b[0;34m|\u001b[0m \u001b[0mdata\u001b[0m\u001b[0;34m.\u001b[0m\u001b[0mkeys\u001b[0m\u001b[0;34m(\u001b[0m\u001b[0;34m)\u001b[0m\u001b[0;34m\u001b[0m\u001b[0m\n\u001b[1;32m     30\u001b[0m     \u001b[0;32mfor\u001b[0m \u001b[0mname\u001b[0m \u001b[0;32min\u001b[0m \u001b[0mnames\u001b[0m\u001b[0;34m:\u001b[0m\u001b[0;34m\u001b[0m\u001b[0m\n\u001b[0;32m---> 31\u001b[0;31m         \u001b[0mdata\u001b[0m\u001b[0;34m[\u001b[0m\u001b[0mname\u001b[0m\u001b[0;34m]\u001b[0m \u001b[0;34m=\u001b[0m \u001b[0mdata\u001b[0m\u001b[0;34m.\u001b[0m\u001b[0mget\u001b[0m\u001b[0;34m(\u001b[0m\u001b[0mname\u001b[0m\u001b[0;34m,\u001b[0m \u001b[0;36m0\u001b[0m\u001b[0;34m)\u001b[0m \u001b[0;34m+\u001b[0m \u001b[0minp\u001b[0m\u001b[0;34m.\u001b[0m\u001b[0mget\u001b[0m\u001b[0;34m(\u001b[0m\u001b[0mname\u001b[0m\u001b[0;34m,\u001b[0m \u001b[0;36m0\u001b[0m\u001b[0;34m)\u001b[0m\u001b[0;34m\u001b[0m\u001b[0m\n\u001b[0m\u001b[1;32m     32\u001b[0m     \u001b[0;32mreturn\u001b[0m \u001b[0mdata\u001b[0m\u001b[0;34m\u001b[0m\u001b[0m\n\u001b[1;32m     33\u001b[0m \u001b[0;34m\u001b[0m\u001b[0m\n",
      "\u001b[0;31mTypeError\u001b[0m: unsupported operand type(s) for +: 'int' and 'list'"
     ]
    }
   ],
   "source": [
    "# get list of file names to concatenate\n",
    "file_names = ['input/Criminal_Offenses_On_campus.csv', 'input/Criminal_Offenses_On_campus_Student_Housing_Facilities.csv', 'input/Criminal_Offenses_Noncampus.csv']\n",
    "\n",
    "\n",
    "def file_to_dict(file_name):\n",
    "    \"\"\"Read a two-column csv file into a dict with first column as key\n",
    "       and an integer value from the second column. \n",
    "    \"\"\"\n",
    "    columns = []\n",
    "    with open(file_name,'rU') as f: \n",
    "        reader = csv.reader(f)\n",
    "        for row in reader:\n",
    "            if columns:\n",
    "                for i, value in enumerate(row):\n",
    "                    columns[i].append(value)\n",
    "            else:\n",
    "                # first row\n",
    "                columns = [[value] for value in row]\n",
    "    as_dict = {c[0] : c[1:] for c in columns}\n",
    "    \n",
    "    final_dict = {key: as_dict[key] for key in as_dict if key not in ['Unitid', 'Institution name','Campus ID',' Campus Name','Institution Size']}\n",
    "    print(final_dict)\n",
    "    return final_dict\n",
    "\n",
    "def merge(data, file_name):\n",
    "    \"\"\"Merge input file with dict `data` adding the numerical values.\n",
    "    \"\"\"\n",
    "    inp = file_to_dict(file_name)\n",
    "    names = inp.keys() | data.keys()\n",
    "    for name in names:\n",
    "        data[name] = data.get(name, 0) + inp.get(name, 0)\n",
    "    return data\n",
    "\n",
    "data = {}\n",
    "for file_name in file_names:\n",
    "    merge(data, file_name)\n",
    "\n",
    "with open('output.csv', 'w') as fobj:\n",
    "    for name, val in sorted(data.items()):\n",
    "        fobj.write('{},{}\\n'.format(name, val))"
   ]
  },
  {
   "cell_type": "code",
   "execution_count": null,
   "metadata": {},
   "outputs": [],
   "source": []
  }
 ],
 "metadata": {
  "kernelspec": {
   "display_name": "Python 3",
   "language": "python",
   "name": "python3"
  },
  "language_info": {
   "codemirror_mode": {
    "name": "ipython",
    "version": 3
   },
   "file_extension": ".py",
   "mimetype": "text/x-python",
   "name": "python",
   "nbconvert_exporter": "python",
   "pygments_lexer": "ipython3",
   "version": "3.6.5"
  }
 },
 "nbformat": 4,
 "nbformat_minor": 2
}
